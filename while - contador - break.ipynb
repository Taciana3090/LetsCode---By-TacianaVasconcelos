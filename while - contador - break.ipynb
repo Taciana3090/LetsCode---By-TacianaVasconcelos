{
 "cells": [
  {
   "cell_type": "code",
   "execution_count": 1,
   "id": "7b65e5e5",
   "metadata": {},
   "outputs": [
    {
     "name": "stdout",
     "output_type": "stream",
     "text": [
      "Qual horario é agora? 5\n",
      "Você está no horario da madrugada\n",
      "Você está no horario da madrugada\n",
      "Você nao está no horario da madrugada\n",
      "Digite o numero de pipocas: 8\n",
      "O numero de pipocas é:  8\n",
      "O numero de pipocas é:  7\n",
      "O numero de pipocas é:  6\n",
      "O numero de pipocas é:  5\n",
      "O numero de pipocas é:  4\n",
      "O numero de pipocas é:  3\n",
      "O numero de pipocas é:  2\n",
      "O numero de pipocas é:  1\n"
     ]
    }
   ],
   "source": [
    "#O while é bastante parecido com um 'if': ele possui uma expressão, e é executado caso ela seja verdadeira. \n",
    "# Mas o if é executado apenas uma vez, e depois o código segue adiante.\n",
    "# O while não: ao final de sua execução, ele torna a testar a expressão, e caso ela seja verdadeira, ele repete sua execução.\n",
    "\n",
    "horario = int(input('Qual horario é agora? '))\n",
    "\n",
    "# Testando a condição uma única vez com o if:\n",
    "if 0 < horario < 6:\n",
    "    print('Você está no horario da madrugada')\n",
    "else:\n",
    "    print('Você nao está no horario da madrugada')\n",
    "\n",
    "# Testando a condição em loop com o while:\n",
    "while 0 < horario < 6:\n",
    "    print('Você está no horario da madrugada')\n",
    "    horario = horario + 1\n",
    "else:\n",
    "    print('Você nao está no horario da madrugada')\n",
    "\n",
    "# O while permite continuar decrementando o número de pipocas até chegar em 0:\n",
    "num_pipocas = int(input('Digite o numero de pipocas: '))\n",
    "\n",
    "while num_pipocas > 0:\n",
    "    print('O numero de pipocas é: ', num_pipocas)\n",
    "    num_pipocas = num_pipocas - 1"
   ]
  },
  {
   "cell_type": "code",
   "execution_count": null,
   "id": "b55468a8",
   "metadata": {},
   "outputs": [],
   "source": [
    "# Validação de entrada\n",
    "# Uma utilidade interessante do while é obrigar o usuário a digitar apenas entradas válidas.\n"
   ]
  },
  {
   "cell_type": "code",
   "execution_count": 2,
   "id": "684b151e",
   "metadata": {},
   "outputs": [
    {
     "name": "stdout",
     "output_type": "stream",
     "text": [
      "Digite seu salario: 1.567\n",
      "Entre com um salario MAIOR DO QUE 998.0: 123.4563\n",
      "Entre com um salario MAIOR DO QUE 998.0: 999.0\n",
      "O salario que você entrou foi:  999.0\n"
     ]
    }
   ],
   "source": [
    "# o exemplo abaixo não aceita um salário menor do que o mínimo atual:\n",
    "salario = float(input('Digite seu salario: '))\n",
    "while salario < 998.0:\n",
    "    salario = float(input('Entre com um salario MAIOR DO QUE 998.0: '))\n",
    "else:\n",
    "    print('O salario que você entrou foi: ', salario)"
   ]
  },
  {
   "cell_type": "code",
   "execution_count": 3,
   "id": "7fe89ebc",
   "metadata": {},
   "outputs": [
    {
     "name": "stdout",
     "output_type": "stream",
     "text": [
      "Digite OK: taciana\n",
      "Não foi isso que eu pedi, digite OK: ok\n",
      "Não foi isso que eu pedi, digite OK: OK\n"
     ]
    }
   ],
   "source": [
    "# o exemplo abaixo só sai do loop quando o usuário digitar \"OK\":\n",
    "resposta = input('Digite OK: ')\n",
    "while resposta != 'OK':\n",
    "    resposta = input('Não foi isso que eu pedi, digite OK: ')"
   ]
  },
  {
   "cell_type": "code",
   "execution_count": 4,
   "id": "7f0b6d33",
   "metadata": {},
   "outputs": [
    {
     "name": "stdout",
     "output_type": "stream",
     "text": [
      "Digite um numero: 5\n",
      "0\n",
      "1\n",
      "2\n",
      "3\n",
      "4\n"
     ]
    }
   ],
   "source": [
    "#   Contador\n",
    "# Todo tipo de código que deve se repetir várias vezes pode ser feito com o while, como somar vários valores, \n",
    "# gerar uma sequência etc. Nestes casos, é normal utilizar um contador:\n",
    "\n",
    "# Declaramos um contador como 0:\n",
    "contador = 0\n",
    "# Definimos o número de repetições:\n",
    "numero = int(input('Digite um numero: '))\n",
    "# Rodamos o while até o contador se igualar ao número de repetições:\n",
    "while contador < numero:\n",
    "    print(contador)\n",
    "    contador = contador + 1"
   ]
  },
  {
   "cell_type": "code",
   "execution_count": 5,
   "id": "85d9cd36",
   "metadata": {},
   "outputs": [
    {
     "name": "stdout",
     "output_type": "stream",
     "text": [
      "Digite OK: taciana\n",
      "Digite OK: OK\n"
     ]
    }
   ],
   "source": [
    "# Break\n",
    "# Um jeito de forçar um loop a ser interrompido é utilizando o comando 'break'. O loop abaixo em tese seria infinito, \n",
    "# mas se a condição do if for verificada, o break é executado e conseguimos escapar do loop:\n",
    "while True:\n",
    "    resposta = input('Digite OK: ')\n",
    "    if resposta == 'OK':\n",
    "        break"
   ]
  },
  {
   "cell_type": "code",
   "execution_count": null,
   "id": "54543a9a",
   "metadata": {},
   "outputs": [],
   "source": []
  }
 ],
 "metadata": {
  "kernelspec": {
   "display_name": "Python 3 (ipykernel)",
   "language": "python",
   "name": "python3"
  },
  "language_info": {
   "codemirror_mode": {
    "name": "ipython",
    "version": 3
   },
   "file_extension": ".py",
   "mimetype": "text/x-python",
   "name": "python",
   "nbconvert_exporter": "python",
   "pygments_lexer": "ipython3",
   "version": "3.9.12"
  }
 },
 "nbformat": 4,
 "nbformat_minor": 5
}
