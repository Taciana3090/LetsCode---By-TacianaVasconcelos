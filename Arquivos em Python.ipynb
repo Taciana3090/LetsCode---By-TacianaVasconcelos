{
 "cells": [
  {
   "cell_type": "code",
   "execution_count": 1,
   "id": "f501d236",
   "metadata": {},
   "outputs": [
    {
     "data": {
      "text/plain": [
       "'C:\\\\Users\\\\TACIANA\\\\Documents\\\\LetsCode'"
      ]
     },
     "execution_count": 1,
     "metadata": {},
     "output_type": "execute_result"
    }
   ],
   "source": [
    "import os\n",
    "os.getcwd()"
   ]
  },
  {
   "cell_type": "code",
   "execution_count": null,
   "id": "5a08d7f4",
   "metadata": {},
   "outputs": [],
   "source": [
    "# O Python possui algumas funções prontas para manipular arquivos binários puros (onde, conhecendo a estrutura interna de \n",
    "# qualquer formato, podemos salvar qualquer tipo de arquivo) e para manipular arquivos de texto (onde os binários são \n",
    "# decodificados como strings).\n",
    "\n",
    "# Focaremos no básico de manipulação de arquivo de texto, pois, na prática, quando formos trabalhar com arquivos mais complexos,\n",
    "# é provável que usaremos bibliotecas específicas para lidar com eles, e elas já terão funções próprias para ler e salvar \n",
    "# esses arquivos da maneira correta.\n",
    "\n"
   ]
  },
  {
   "cell_type": "code",
   "execution_count": null,
   "id": "41144fd9",
   "metadata": {},
   "outputs": [],
   "source": [
    "# Abrindo e fechando arquivos\n",
    "\n",
    "# Podemos criar arquivos novos ou abrir arquivos já existentes utilizando a função open. Ela possui 2 argumentos: \n",
    "# o caminho do arquivo e o modo de operação.\n",
    "\n",
    "# Modo\tSímbolo\tDescrição\n",
    "# read\tr\tlê um arquivo existente\n",
    "# write\tw\tcria um novo arquivo\n",
    "# append\ta\tabre um arquivo existente para adicionar informações ao seu final\n",
    "# update\t+\tao ser combinado com outros modos, permite alteração de arquivo já existente \n",
    "# (ex: r+ abre um arquivo existente e permite modificá-lo)\n",
    "\n",
    "# Após abrirmos (ou criarmos) um arquivo, podemos realizar diversas operações. Ao final de todas elas, devemos fechar o \n",
    "# nosso arquivo usando a função close. Essa etapa é importante por 2 motivos:\n",
    "\n",
    "# 1 - Se alteramos o arquivo mas não o fechamos, as alterações não serão salvas;\n",
    "# 2 - Se esquecemos de fechar um arquivo, outros programas podem ter problemas ao acessá-lo."
   ]
  },
  {
   "cell_type": "code",
   "execution_count": 2,
   "id": "3d93cf48",
   "metadata": {},
   "outputs": [],
   "source": [
    "# Roteiro básico\n",
    "\n",
    "# Vamos seguir os seguintes passos para manipular nossos arquivos:\n",
    "\n",
    "# 1 - Abrir ou criar um arquivo:\n",
    "\n",
    "arquivocriado = open(\"criado.txt\", \"w\")\n",
    "# A linha de comando acima abre (ou cria se não existe) um arquivo chamado \"criado.txt\" para escrita (\"w\", de write) \n",
    "# e guarda na variável \"arquivocriado\" as informações para manipulá-lo.\n"
   ]
  },
  {
   "cell_type": "code",
   "execution_count": 11,
   "id": "cecf93de",
   "metadata": {},
   "outputs": [
    {
     "ename": "FileNotFoundError",
     "evalue": "[Errno 2] No such file or directory: 'dom_casmurro_cap_1.txt'",
     "output_type": "error",
     "traceback": [
      "\u001b[1;31m---------------------------------------------------------------------------\u001b[0m",
      "\u001b[1;31mFileNotFoundError\u001b[0m                         Traceback (most recent call last)",
      "Input \u001b[1;32mIn [11]\u001b[0m, in \u001b[0;36m<cell line: 1>\u001b[1;34m()\u001b[0m\n\u001b[1;32m----> 1\u001b[0m \u001b[38;5;28;01mwith\u001b[39;00m \u001b[38;5;28;43mopen\u001b[39;49m\u001b[43m(\u001b[49m\u001b[38;5;124;43m'\u001b[39;49m\u001b[38;5;124;43mdom_casmurro_cap_1.txt\u001b[39;49m\u001b[38;5;124;43m'\u001b[39;49m\u001b[43m,\u001b[49m\u001b[43m \u001b[49m\u001b[38;5;124;43m'\u001b[39;49m\u001b[38;5;124;43mr\u001b[39;49m\u001b[38;5;124;43m'\u001b[39;49m\u001b[43m,\u001b[49m\u001b[43m \u001b[49m\u001b[43mencoding\u001b[49m\u001b[43m \u001b[49m\u001b[38;5;241;43m=\u001b[39;49m\u001b[43m \u001b[49m\u001b[38;5;124;43m'\u001b[39;49m\u001b[38;5;124;43mutf-8\u001b[39;49m\u001b[38;5;124;43m'\u001b[39;49m\u001b[43m)\u001b[49m \u001b[38;5;28;01mas\u001b[39;00m f:\n\u001b[0;32m      2\u001b[0m     arquivo \u001b[38;5;241m=\u001b[39m f\u001b[38;5;241m.\u001b[39mread()\n",
      "\u001b[1;31mFileNotFoundError\u001b[0m: [Errno 2] No such file or directory: 'dom_casmurro_cap_1.txt'"
     ]
    }
   ],
   "source": [
    "arquivolido = open(\"teste.txt\", \"r\")\n",
    "# A linha acima lê (\"r\", de read) um arquivo já existente chamado \"teste.txt\" e guarda na variável \"arquivolido\" \n",
    "# as informações para manipulá-lo."
   ]
  },
  {
   "cell_type": "code",
   "execution_count": 1,
   "id": "be488215",
   "metadata": {},
   "outputs": [
    {
     "ename": "NameError",
     "evalue": "name 'arquivolido' is not defined",
     "output_type": "error",
     "traceback": [
      "\u001b[1;31m---------------------------------------------------------------------------\u001b[0m",
      "\u001b[1;31mNameError\u001b[0m                                 Traceback (most recent call last)",
      "Input \u001b[1;32mIn [1]\u001b[0m, in \u001b[0;36m<cell line: 2>\u001b[1;34m()\u001b[0m\n\u001b[0;32m      1\u001b[0m \u001b[38;5;66;03m# 2 - Carregar os dados do arquivo (leitura)\u001b[39;00m\n\u001b[1;32m----> 2\u001b[0m dados \u001b[38;5;241m=\u001b[39m \u001b[43marquivolido\u001b[49m\u001b[38;5;241m.\u001b[39mread()\n\u001b[0;32m      3\u001b[0m \u001b[38;5;28mprint\u001b[39m(dados)\n",
      "\u001b[1;31mNameError\u001b[0m: name 'arquivolido' is not defined"
     ]
    }
   ],
   "source": [
    "# 2 - Carregar os dados do arquivo (leitura)\n",
    "dados = arquivolido.read()\n",
    "print(dados)\n",
    "\n",
    "# A função read() retorna todo o conteúdo do arquivo como uma string.\n",
    "\n",
    "# Precisamos carregar o conteúdo do arquivo em algum formato que sabemos trabalhar. \n",
    "# A read() carrega o conteúdo de um arquivo de texto em uma string.\n"
   ]
  },
  {
   "cell_type": "code",
   "execution_count": 2,
   "id": "5c9444cf",
   "metadata": {},
   "outputs": [
    {
     "ename": "NameError",
     "evalue": "name 'arquivocriado' is not defined",
     "output_type": "error",
     "traceback": [
      "\u001b[1;31m---------------------------------------------------------------------------\u001b[0m",
      "\u001b[1;31mNameError\u001b[0m                                 Traceback (most recent call last)",
      "Input \u001b[1;32mIn [2]\u001b[0m, in \u001b[0;36m<cell line: 2>\u001b[1;34m()\u001b[0m\n\u001b[0;32m      1\u001b[0m \u001b[38;5;66;03m# 3 - Manipular os dados do arquivo (escrita)\u001b[39;00m\n\u001b[1;32m----> 2\u001b[0m \u001b[43marquivocriado\u001b[49m\u001b[38;5;241m.\u001b[39mwrite(\u001b[38;5;124m\"\u001b[39m\u001b[38;5;124mlinha 1\u001b[39m\u001b[38;5;124m\"\u001b[39m)\n\u001b[0;32m      3\u001b[0m arquivocriado\u001b[38;5;241m.\u001b[39mwrite(\u001b[38;5;124m\"\u001b[39m\u001b[38;5;124mlinha 2\u001b[39m\u001b[38;5;124m\"\u001b[39m)\n\u001b[0;32m      4\u001b[0m arquivocriado\u001b[38;5;241m.\u001b[39mwrite(\u001b[38;5;124m\"\u001b[39m\u001b[38;5;124mlinha 3\u001b[39m\u001b[38;5;124m\"\u001b[39m)\n",
      "\u001b[1;31mNameError\u001b[0m: name 'arquivocriado' is not defined"
     ]
    }
   ],
   "source": [
    "# 3 - Manipular os dados do arquivo (escrita)\n",
    "arquivocriado.write(\"linha 1\")\n",
    "arquivocriado.write(\"linha 2\")\n",
    "arquivocriado.write(\"linha 3\")\n",
    "\n",
    "# Em casos mais complexos, iremos manipular o conteudo LIDO no passo anterior para posteriormente reescrevê-lo. \n",
    "# Em outros mais simples, podemos escrever diretamente no arquivo."
   ]
  },
  {
   "cell_type": "code",
   "execution_count": 3,
   "id": "20528186",
   "metadata": {},
   "outputs": [
    {
     "ename": "NameError",
     "evalue": "name 'arquivocriado' is not defined",
     "output_type": "error",
     "traceback": [
      "\u001b[1;31m---------------------------------------------------------------------------\u001b[0m",
      "\u001b[1;31mNameError\u001b[0m                                 Traceback (most recent call last)",
      "Input \u001b[1;32mIn [3]\u001b[0m, in \u001b[0;36m<cell line: 3>\u001b[1;34m()\u001b[0m\n\u001b[0;32m      1\u001b[0m \u001b[38;5;66;03m# Fechar o arquivo\u001b[39;00m\n\u001b[1;32m----> 3\u001b[0m \u001b[43marquivocriado\u001b[49m\u001b[38;5;241m.\u001b[39mclose()\n\u001b[0;32m      4\u001b[0m arquivolido\u001b[38;5;241m.\u001b[39mclose()\n",
      "\u001b[1;31mNameError\u001b[0m: name 'arquivocriado' is not defined"
     ]
    }
   ],
   "source": [
    "# Fechar o arquivo\n",
    "\n",
    "arquivocriado.close()\n",
    "arquivolido.close()\n",
    "\n",
    "# Essa etapa é muito importante para garantir a integridade dos novos dados no arquivo. \n",
    "# As modificações são salvas somente ao fechar o arquivo."
   ]
  },
  {
   "cell_type": "code",
   "execution_count": 4,
   "id": "95bb8ff5",
   "metadata": {},
   "outputs": [
    {
     "ename": "SyntaxError",
     "evalue": "invalid syntax (1811350261.py, line 1)",
     "output_type": "error",
     "traceback": [
      "\u001b[1;36m  Input \u001b[1;32mIn [4]\u001b[1;36m\u001b[0m\n\u001b[1;33m    Comando with\u001b[0m\n\u001b[1;37m            ^\u001b[0m\n\u001b[1;31mSyntaxError\u001b[0m\u001b[1;31m:\u001b[0m invalid syntax\n"
     ]
    }
   ],
   "source": [
    "# Comando with\n",
    "# Um jeito mais inteligente de se trabalhar com arquivos é utilizar a sintaxe do \"with\". \n",
    "# ele garante que após a finalização do bloco, o arquivo será fechado.\n",
    "\n",
    "with open('teste.txt', 'r') as arquivolido:\n",
    "   dados = arquivolido.read()\n",
    "   print(dados)"
   ]
  },
  {
   "cell_type": "code",
   "execution_count": 5,
   "id": "efcb55c8",
   "metadata": {},
   "outputs": [
    {
     "ename": "FileNotFoundError",
     "evalue": "[Errno 2] No such file or directory: 'teste.txt'",
     "output_type": "error",
     "traceback": [
      "\u001b[1;31m---------------------------------------------------------------------------\u001b[0m",
      "\u001b[1;31mFileNotFoundError\u001b[0m                         Traceback (most recent call last)",
      "Input \u001b[1;32mIn [5]\u001b[0m, in \u001b[0;36m<cell line: 3>\u001b[1;34m()\u001b[0m\n\u001b[0;32m      1\u001b[0m \u001b[38;5;66;03m# É possível ler o arquivo linha a linha, como no exemplo:\u001b[39;00m\n\u001b[1;32m----> 3\u001b[0m \u001b[38;5;28;01mwith\u001b[39;00m \u001b[38;5;28;43mopen\u001b[39;49m\u001b[43m(\u001b[49m\u001b[38;5;124;43m'\u001b[39;49m\u001b[38;5;124;43mteste.txt\u001b[39;49m\u001b[38;5;124;43m'\u001b[39;49m\u001b[43m,\u001b[49m\u001b[43m \u001b[49m\u001b[38;5;124;43m'\u001b[39;49m\u001b[38;5;124;43mr\u001b[39;49m\u001b[38;5;124;43m'\u001b[39;49m\u001b[43m)\u001b[49m \u001b[38;5;28;01mas\u001b[39;00m arquivolido:\n\u001b[0;32m      4\u001b[0m    linha \u001b[38;5;241m=\u001b[39m arquivolido\u001b[38;5;241m.\u001b[39mreadline()\n\u001b[0;32m      5\u001b[0m    \u001b[38;5;28;01mwhile\u001b[39;00m linha \u001b[38;5;241m!=\u001b[39m \u001b[38;5;124m'\u001b[39m\u001b[38;5;124m'\u001b[39m:\n",
      "\u001b[1;31mFileNotFoundError\u001b[0m: [Errno 2] No such file or directory: 'teste.txt'"
     ]
    }
   ],
   "source": [
    "# É possível ler o arquivo linha a linha, como no exemplo:\n",
    "\n",
    "with open('teste.txt', 'r') as arquivolido:\n",
    "   linha = arquivolido.readline()\n",
    "   while linha != '':\n",
    "       print(linha, end='')\n",
    "       linha = arquivolido.readline()\n",
    "\n",
    "\n",
    "# OU\n",
    "\n",
    "with open('teste.txt', 'r') as arquivolido:\n",
    "    for linha in arquivolido:\n",
    "        print(linha, end='')\n"
   ]
  },
  {
   "cell_type": "code",
   "execution_count": null,
   "id": "7b48a366",
   "metadata": {},
   "outputs": [],
   "source": [
    "# O mesmo pode ser feito para escrever no arquivo:\n",
    "\n",
    "with open('teste.txt', 'r') as arquivolido:\n",
    "    with open('copiateste.txt', 'w') as arquivocriado:\n",
    "        for linha in arquivolido:\n",
    "            arquivocriado.write(linha)\n",
    "# No comando acima, as linhas do arquivo \"teste.txt\" são copiadas e salvas no arquivo \"copiateste.txt\"."
   ]
  }
 ],
 "metadata": {
  "kernelspec": {
   "display_name": "Python 3 (ipykernel)",
   "language": "python",
   "name": "python3"
  },
  "language_info": {
   "codemirror_mode": {
    "name": "ipython",
    "version": 3
   },
   "file_extension": ".py",
   "mimetype": "text/x-python",
   "name": "python",
   "nbconvert_exporter": "python",
   "pygments_lexer": "ipython3",
   "version": "3.9.12"
  }
 },
 "nbformat": 4,
 "nbformat_minor": 5
}
