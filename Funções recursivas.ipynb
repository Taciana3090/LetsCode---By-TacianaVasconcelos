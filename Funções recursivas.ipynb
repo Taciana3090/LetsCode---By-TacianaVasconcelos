{
 "cells": [
  {
   "cell_type": "code",
   "execution_count": 1,
   "id": "e811856a",
   "metadata": {},
   "outputs": [
    {
     "name": "stdout",
     "output_type": "stream",
     "text": [
      "Testando a função recursiva:\n",
      "1\n",
      "2\n",
      "3\n",
      "4\n",
      "5\n",
      "6\n",
      "7\n",
      "8\n",
      "9\n",
      "10\n"
     ]
    }
   ],
   "source": [
    "# Algumas funções são chamadas funções recursivas. A recursividade (ou recursão) é uma propriedade na qual uma função faz \n",
    "# referência a si mesma. Quando a função encontra uma nova referência, ela irá pausar sua execução atual e iniciar a execução \n",
    "# da nova instância, para só então retomar sua execução.\n",
    "\n",
    "# Assim como nos loops, é necessário ter alguma condição para que as chamadas recursivas sejam interrompidas, evitando que \n",
    "# executem para sempre.\n",
    "\n",
    "def funcaoRecursiva(numero):\n",
    "    if (numero != 1):\n",
    "        funcaoRecursiva(numero - 1)\n",
    "    print(numero)\n",
    "\n",
    "print(\"Testando a função recursiva:\")\n",
    "funcaoRecursiva(10)\n"
   ]
  },
  {
   "cell_type": "code",
   "execution_count": null,
   "id": "bd4d5a6e",
   "metadata": {},
   "outputs": [],
   "source": [
    "# Note que no exemplo acima passamos 10 para a função. Sua execução foi interrompida por uma nova chamada passando 9, depois 8, \n",
    "# depois 7... Ao chegar em 1, ele foge da condicional e imprime 1, encerrando a execução. Então a instância que recebeu 2 \n",
    "# tambem conclui sua execução, depois a chamada 3, a 4... A 10, que foi a 1a chamada, encerra por último.\n",
    "\n",
    "# Dizemos que é um comportamento de pilha - exatamente como uma pilha de pratos sobre a mesa: O primeiro prato que foi colocado \n",
    "# sobre a mesa será o último a sair, pois todos os pratos colocados sobre ele precisam ser retirados antes de você poder retirar \n",
    "# o último.\n",
    "\n",
    "# Problemas recursivos normalmente são problemas do tipo \"dividir para conquistar\": Temos um \"caso base\", ou seja, um ou mais \n",
    "# casos onde há uma resposta direta; E temos um \"caso geral\", que é uma versão reduzida do problema original."
   ]
  }
 ],
 "metadata": {
  "kernelspec": {
   "display_name": "Python 3 (ipykernel)",
   "language": "python",
   "name": "python3"
  },
  "language_info": {
   "codemirror_mode": {
    "name": "ipython",
    "version": 3
   },
   "file_extension": ".py",
   "mimetype": "text/x-python",
   "name": "python",
   "nbconvert_exporter": "python",
   "pygments_lexer": "ipython3",
   "version": "3.9.12"
  }
 },
 "nbformat": 4,
 "nbformat_minor": 5
}
