{
 "cells": [
  {
   "cell_type": "code",
   "execution_count": 1,
   "id": "9cdd1e5a",
   "metadata": {},
   "outputs": [
    {
     "name": "stdout",
     "output_type": "stream",
     "text": [
      "Hello world!\n"
     ]
    }
   ],
   "source": [
    "print(\"Hello world!\")"
   ]
  },
  {
   "cell_type": "code",
   "execution_count": 2,
   "id": "ca263210",
   "metadata": {},
   "outputs": [],
   "source": [
    "x = -10 # uma variável do tipo inteiro (int)\n",
    "y = 3.14 # uma variável do tipo real (float)\n",
    "escola = \"Let's Code\" # uma variável literal (string)\n",
    "primeiraAula = True # uma variável lógica (booleana)"
   ]
  },
  {
   "cell_type": "code",
   "execution_count": 3,
   "id": "02583c98",
   "metadata": {},
   "outputs": [
    {
     "name": "stdout",
     "output_type": "stream",
     "text": [
      "5 -1 6 0.6666666666666666 0 8 2\n",
      "6 0\n",
      "Digite seu primeiro nome:Taciana\n",
      "Taciana Schmitt\n"
     ]
    }
   ],
   "source": [
    "# Podemos fazer operações aritméticas simples\n",
    "a = 2 + 3  # Soma\n",
    "b = 2 - 3  # Subtração\n",
    "c = 2 * 3  # Multiplicação\n",
    "d = 2 / 3  # Divisão\n",
    "e = 2 // 3 # Divisão inteira\n",
    "f = 2 ** 3 # Potência\n",
    "g = 2 % 3  # Resto de divisão\n",
    "\n",
    "print (a, b, c, d, e, f, g)\n",
    "\n",
    "# Podemos fazer operações dentro do print\n",
    "\n",
    "print (a+1, b+1)\n",
    "\n",
    "#Podemos fazer operações com variáveis não inteiras\n",
    "nome = input('Digite seu primeiro nome:')\n",
    "nome = nome + ' Schmitt'\n",
    "print(nome)"
   ]
  },
  {
   "cell_type": "code",
   "execution_count": 4,
   "id": "652bebc5",
   "metadata": {},
   "outputs": [
    {
     "name": "stdout",
     "output_type": "stream",
     "text": [
      "True\n",
      "False\n"
     ]
    }
   ],
   "source": [
    "comparacao1 = 5 > 3\n",
    "print(comparacao1)\n",
    "comparacao2 = 5 < 3\n",
    "print(comparacao2)"
   ]
  },
  {
   "cell_type": "code",
   "execution_count": 6,
   "id": "374e930f",
   "metadata": {},
   "outputs": [
    {
     "name": "stdout",
     "output_type": "stream",
     "text": [
      "True\n",
      "False\n"
     ]
    }
   ],
   "source": [
    "comparacao1 = 5 > 3 and 6 > 3\n",
    "comparacao2 = 5 < 3 and 6 > 3\n",
    "print(comparacao1)\n",
    "print(comparacao2)"
   ]
  },
  {
   "cell_type": "code",
   "execution_count": 7,
   "id": "512d0ee7",
   "metadata": {},
   "outputs": [
    {
     "name": "stdout",
     "output_type": "stream",
     "text": [
      "eu estudo na  Let's Code\n",
      "pi vale 3.14\n",
      "4.140000000000001 9.8596\n"
     ]
    }
   ],
   "source": [
    "y = 3.14 # uma variável do tipo real (float)\n",
    "escola = \"Let's Code\" # uma variável literal (string)\n",
    "\n",
    "# Podemos exibir textos na tela e/ou valores de variáveis com a função print().\n",
    "print('eu estudo na ', escola)\n",
    "print('pi vale', y)\n",
    "\n",
    "# Podemos fazer operações dentro do print:\n",
    "print (y+1, y**2)"
   ]
  },
  {
   "cell_type": "code",
   "execution_count": 8,
   "id": "fba2107e",
   "metadata": {},
   "outputs": [
    {
     "name": "stdout",
     "output_type": "stream",
     "text": [
      "Digite o seu nome: Taciana\n",
      "Digite o seu peso: 57\n",
      "Digite a sua idade: 32\n",
      "Taciana pesa 57.0 kg e tem 32 anos de idade.\n"
     ]
    }
   ],
   "source": [
    "# Podemos ler valores do teclado com a função input().\n",
    "# Ela permite que a gente passe uma mensagem para o usuário.\n",
    "nome = input('Digite o seu nome: ')\n",
    "\n",
    "# Tudo que é lido por input() é considerado uma string (str).\n",
    "# Para tratar como outros tipos de dados é necessário realizar a conversão:\n",
    "peso = float(input('Digite o seu peso: ')) # lê o peso como número real\n",
    "idade = int(input('Digite a sua idade: ')) # lê a idade como número inteiro\n",
    "\n",
    "print(nome, 'pesa', peso, 'kg e tem', idade, 'anos de idade.')"
   ]
  },
  {
   "cell_type": "code",
   "execution_count": 9,
   "id": "69653a42",
   "metadata": {},
   "outputs": [
    {
     "name": "stdout",
     "output_type": "stream",
     "text": [
      "Digite sua idade:32\n",
      "Você pode entrar na montanha russa.\n",
      "Obrigado por participar.\n",
      "Digite sua altura, em metros:162\n",
      "Você pode entrar na montanha russa.\n",
      "Obrigado por participar.\n"
     ]
    }
   ],
   "source": [
    "idade = int(input('Digite sua idade:'))\n",
    "if idade >= 12:\n",
    "    print('Você pode entrar na montanha russa.')\n",
    "print('Obrigado por participar.')\n",
    "\n",
    "altura = float(input('Digite sua altura, em metros:'))\n",
    "if idade >= 12 and altura >= 1.60:\n",
    "    print('Você pode entrar na montanha russa.')\n",
    "print('Obrigado por participar.')"
   ]
  },
  {
   "cell_type": "code",
   "execution_count": 10,
   "id": "122d7d10",
   "metadata": {},
   "outputs": [
    {
     "name": "stdout",
     "output_type": "stream",
     "text": [
      "Digite sua idade:32\n",
      "Digite sua altura, em metros:1.25\n",
      "Você não pode entrar na montanha russa.\n",
      "Obrigado por participar.\n"
     ]
    }
   ],
   "source": [
    "idade = int(input('Digite sua idade:'))\n",
    "altura = float(input('Digite sua altura, em metros:'))\n",
    "if idade >= 12 and altura >= 1.60:\n",
    "    print('Você pode entrar na montanha russa.')\n",
    "else:\n",
    "    print('Você não pode entrar na montanha russa.')\n",
    "print('Obrigado por participar.')"
   ]
  },
  {
   "cell_type": "code",
   "execution_count": 11,
   "id": "1c36bebb",
   "metadata": {},
   "outputs": [
    {
     "ename": "SyntaxError",
     "evalue": "unexpected EOF while parsing (1983204284.py, line 9)",
     "output_type": "error",
     "traceback": [
      "\u001b[1;36m  Input \u001b[1;32mIn [11]\u001b[1;36m\u001b[0m\n\u001b[1;33m    print('Você não tem idade suficiente para entrar nesse brinquedo.'\u001b[0m\n\u001b[1;37m                                                                      ^\u001b[0m\n\u001b[1;31mSyntaxError\u001b[0m\u001b[1;31m:\u001b[0m unexpected EOF while parsing\n"
     ]
    }
   ],
   "source": [
    "idade = int(input('Digite sua idade:'))\n",
    "if idade >= 12:\n",
    "    resposta = input('Você gostaria de entrar nesta montanha russa?')\n",
    "    if (resposta == 'sim'):\n",
    "        print('Por favor, entre!')\n",
    "    else:\n",
    "        print('Ok então')\n",
    "else:\n",
    "    print('Você não tem idade suficiente para entrar nesse brinquedo.'"
   ]
  },
  {
   "cell_type": "code",
   "execution_count": 12,
   "id": "49a49e6c",
   "metadata": {},
   "outputs": [
    {
     "name": "stdout",
     "output_type": "stream",
     "text": [
      "Quantos exercícios de Python vc já fez?4\n",
      "Xiiii...\n"
     ]
    }
   ],
   "source": [
    "exercicios = int(input('Quantos exercícios de Python vc já fez?'))\n",
    "\n",
    "if exercicios > 30:\n",
    "    print('Já está ficando profissional!')\n",
    "elif exercicios > 20:\n",
    "    print('Tá indo bem, bora fazer mais alguns!')\n",
    "elif exercicios > 10:\n",
    "    print('Vamos tirar o atraso?')\n",
    "else:\n",
    "    print('Xiiii...')"
   ]
  },
  {
   "cell_type": "code",
   "execution_count": null,
   "id": "887f9a14",
   "metadata": {},
   "outputs": [],
   "source": []
  }
 ],
 "metadata": {
  "kernelspec": {
   "display_name": "Python 3 (ipykernel)",
   "language": "python",
   "name": "python3"
  },
  "language_info": {
   "codemirror_mode": {
    "name": "ipython",
    "version": 3
   },
   "file_extension": ".py",
   "mimetype": "text/x-python",
   "name": "python",
   "nbconvert_exporter": "python",
   "pygments_lexer": "ipython3",
   "version": "3.9.12"
  }
 },
 "nbformat": 4,
 "nbformat_minor": 5
}
