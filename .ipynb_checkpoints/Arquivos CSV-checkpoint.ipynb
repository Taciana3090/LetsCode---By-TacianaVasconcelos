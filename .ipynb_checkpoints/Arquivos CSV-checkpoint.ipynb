{
 "cells": [
  {
   "cell_type": "code",
   "execution_count": 1,
   "id": "5b53dae9",
   "metadata": {},
   "outputs": [],
   "source": [
    "# CSV\n",
    "# O formato CSV (Comma Separated Values, ou Valores Separados por Vírgula) é um arquivo de texto que representa dados em forma \n",
    "# de tabela de forma simples.\n",
    "# Cada linha do arquivo de texto é uma linha da tabela, e as colunas são separadas por vírgulas.\n",
    "\n",
    "# 1, 2, 3, 4\n",
    "\n",
    "# 5, 6, 7, 8\n",
    "\n",
    "# 9, 10, 11, 12\n",
    "\n",
    "\n",
    "# Poderíamos manipular estes arquivos diretamente usando as funções de arquivo vistas anteriormente. \n",
    "# Um fator complicador é que o formato CSV não é bem padronizado: apesar do nome, é normal que outros separadores sejam usados \n",
    "# ao invés de vírgula, como \";\", para permitir que a vírgula seja usada em um campo. Idem para a separação entre linhas. \n",
    "# Existe um módulo em Python para manipular arquivos CSV que nos ajuda a tratar essas diferenças. \n",
    "# Todo programa que for utilizar o módulo CSV deverá importá-lo em seu início através do comando: import csv"
   ]
  },
  {
   "cell_type": "code",
   "execution_count": 2,
   "id": "8d7eb7bf",
   "metadata": {},
   "outputs": [
    {
     "name": "stdout",
     "output_type": "stream",
     "text": [
      "O conteúdo do arquivo é:\n",
      "<_csv.reader object at 0x0000024A7BEDD460>\n",
      "['1', '2', '3']\n",
      "['4', '5', '6']\n",
      "['7', '8', '9']\n"
     ]
    }
   ],
   "source": [
    "import csv\n",
    "\n",
    "with open('tabelaExemplo.csv', 'w') as arquivo:\n",
    "    escritor = csv.writer(arquivo, delimiter = ';', lineterminator = '\\n') #criando um escritor\n",
    "    lista = [[1, 2, 3], [4, 5, 6], [7, 8, 9]]\n",
    "    escritor.writerows(lista) # writerows escreve cada \"sublista\" da lista como uma linha\n",
    "\n",
    "with open('tabelaExemplo.csv', \"r\") as arquivo:\n",
    "    leitor = csv.reader(arquivo, delimiter = ';', lineterminator = '\\n') #criando um leitor\n",
    "    print(\"O conteúdo do arquivo é:\")\n",
    "    print(leitor)\n",
    "    for linha in leitor:\n",
    "        print(linha)"
   ]
  },
  {
   "cell_type": "code",
   "execution_count": 3,
   "id": "7d3c84ab",
   "metadata": {},
   "outputs": [
    {
     "ename": "FileNotFoundError",
     "evalue": "[Errno 2] No such file or directory: 'email.csv'",
     "output_type": "error",
     "traceback": [
      "\u001b[1;31m---------------------------------------------------------------------------\u001b[0m",
      "\u001b[1;31mFileNotFoundError\u001b[0m                         Traceback (most recent call last)",
      "Input \u001b[1;32mIn [3]\u001b[0m, in \u001b[0;36m<cell line: 7>\u001b[1;34m()\u001b[0m\n\u001b[0;32m      1\u001b[0m \u001b[38;5;66;03m# DictReader e DictWriter\u001b[39;00m\n\u001b[0;32m      2\u001b[0m \u001b[38;5;66;03m# Podemos também trabalhar com dicionários, nos quais a primeira linha é lida como a chave e as demais são os \u001b[39;00m\n\u001b[0;32m      3\u001b[0m \u001b[38;5;66;03m# respectivos valores:\u001b[39;00m\n\u001b[0;32m      5\u001b[0m \u001b[38;5;28;01mimport\u001b[39;00m \u001b[38;5;21;01mcsv\u001b[39;00m\n\u001b[1;32m----> 7\u001b[0m \u001b[38;5;28;01mwith\u001b[39;00m \u001b[38;5;28;43mopen\u001b[39;49m\u001b[43m(\u001b[49m\u001b[38;5;124;43m'\u001b[39;49m\u001b[38;5;124;43memail.csv\u001b[39;49m\u001b[38;5;124;43m'\u001b[39;49m\u001b[43m,\u001b[49m\u001b[43m \u001b[49m\u001b[38;5;124;43m'\u001b[39;49m\u001b[38;5;124;43mr\u001b[39;49m\u001b[38;5;124;43m'\u001b[39;49m\u001b[43m)\u001b[49m \u001b[38;5;28;01mas\u001b[39;00m emails:\n\u001b[0;32m      8\u001b[0m     leitor \u001b[38;5;241m=\u001b[39m csv\u001b[38;5;241m.\u001b[39mDictReader(emails, delimiter\u001b[38;5;241m=\u001b[39m\u001b[38;5;124m'\u001b[39m\u001b[38;5;124m;\u001b[39m\u001b[38;5;124m'\u001b[39m) \u001b[38;5;66;03m#a primeira linha é lida como um cabeçalho\u001b[39;00m\n\u001b[0;32m      9\u001b[0m     \u001b[38;5;28;01mfor\u001b[39;00m linha \u001b[38;5;129;01min\u001b[39;00m leitor:\n",
      "\u001b[1;31mFileNotFoundError\u001b[0m: [Errno 2] No such file or directory: 'email.csv'"
     ]
    }
   ],
   "source": [
    "# DictReader e DictWriter\n",
    "# Podemos também trabalhar com dicionários, nos quais a primeira linha é lida como a chave e as demais são os \n",
    "# respectivos valores:\n",
    "\n",
    "import csv\n",
    "\n",
    "with open('email.csv', 'r') as emails:\n",
    "    leitor = csv.DictReader(emails, delimiter=';') #a primeira linha é lida como um cabeçalho\n",
    "    for linha in leitor:\n",
    "        print(linha['Login email']) #podemos chamar um valor específico de cada linha pela chave no cabeçallho\n",
    "\n",
    "\n",
    "with open('names.csv', 'w', newline='') as csvfile:\n",
    "    chaves = ['first_name', 'last_name'] # definimos o cabeçalho\n",
    "    writer = csv.DictWriter(csvfile, fieldnames=chaves) # especificamos o cabeçalho\n",
    "\n",
    "    writer.writeheader() # escrevemos o cabeçalho\n",
    "    writer.writerow({'first_name': 'Senhor', 'last_name': 'Batata'}) # escrevemos linhas com as chaves e valores\n",
    "    writer.writerow({'first_name': 'Will', 'last_name': 'Smith'})\n",
    "    writer.writerow({'first_name': 'Elon', 'last_name': 'Musk'})"
   ]
  },
  {
   "cell_type": "code",
   "execution_count": null,
   "id": "84314c75",
   "metadata": {},
   "outputs": [],
   "source": []
  }
 ],
 "metadata": {
  "kernelspec": {
   "display_name": "Python 3 (ipykernel)",
   "language": "python",
   "name": "python3"
  },
  "language_info": {
   "codemirror_mode": {
    "name": "ipython",
    "version": 3
   },
   "file_extension": ".py",
   "mimetype": "text/x-python",
   "name": "python",
   "nbconvert_exporter": "python",
   "pygments_lexer": "ipython3",
   "version": "3.9.12"
  }
 },
 "nbformat": 4,
 "nbformat_minor": 5
}
