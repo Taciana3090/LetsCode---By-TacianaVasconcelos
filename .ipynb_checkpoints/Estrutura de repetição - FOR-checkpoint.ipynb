{
 "cells": [
  {
   "cell_type": "code",
   "execution_count": 1,
   "id": "985256bb",
   "metadata": {},
   "outputs": [
    {
     "ename": "SyntaxError",
     "evalue": "invalid syntax (3087247358.py, line 6)",
     "output_type": "error",
     "traceback": [
      "\u001b[1;36m  Input \u001b[1;32mIn [1]\u001b[1;36m\u001b[0m\n\u001b[1;33m    for (variável temporária) in (lista):\u001b[0m\n\u001b[1;37m                  ^\u001b[0m\n\u001b[1;31mSyntaxError\u001b[0m\u001b[1;31m:\u001b[0m invalid syntax\n"
     ]
    }
   ],
   "source": [
    "# Percorrendo coleções\n",
    "# O for é um tipo especial de loop feito para percorrer elementos de uma coleção. Acima vimos exemplos usando um while e um \n",
    "# contador para percorrer uma lista. O for elimina a necessidade de inicializarmos um contador, incrementarmos e verificar a \n",
    "# condição de parada. Sintaxe:\n",
    "\n",
    "for (variável temporária) in (lista):\n",
    "    # instruções...\n",
    "    # ..."
   ]
  },
  {
   "cell_type": "code",
   "execution_count": 2,
   "id": "aedd8191",
   "metadata": {},
   "outputs": [
    {
     "name": "stdout",
     "output_type": "stream",
     "text": [
      "1\n",
      "1\n",
      "2\n",
      "3\n",
      "5\n",
      "8\n",
      "13\n"
     ]
    }
   ],
   "source": [
    "# O for se repete uma vez para cada elemento da lista. A cada repetição, a variável temporária assume o valor de um elemento \n",
    "# da lista, na ordem da lista.\n",
    "\n",
    "fib = [1, 1, 2, 3, 5, 8, 13]\n",
    "for elemento in fib:\n",
    "    print(elemento)"
   ]
  },
  {
   "cell_type": "code",
   "execution_count": 3,
   "id": "9077d70d",
   "metadata": {},
   "outputs": [
    {
     "name": "stdout",
     "output_type": "stream",
     "text": [
      "0\n",
      "1\n",
      "2\n",
      "3\n",
      "4\n",
      "5\n",
      "6\n",
      "7\n",
      "8\n",
      "9\n",
      "1\n",
      "2\n",
      "3\n",
      "4\n",
      "5\n",
      "6\n",
      "7\n",
      "8\n",
      "9\n",
      "10\n",
      "1\n",
      "3\n",
      "5\n",
      "7\n",
      "9\n",
      "11\n",
      "13\n",
      "15\n",
      "17\n",
      "19\n",
      "10\n",
      "9\n",
      "8\n",
      "7\n",
      "6\n",
      "5\n",
      "4\n",
      "3\n",
      "2\n",
      "1\n"
     ]
    }
   ],
   "source": [
    "# Percorrendo sequências numéricas\n",
    "# O for pode ser usado, junto com a função range(), para gerar sequências numéricas e contagens. \n",
    "# Existem 3 meios de usar o range(): especificando 1, 2 ou 3 parâmetros.\n",
    "\n",
    "# Com 1 parâmetro, ele será interpretado como valor final (exclusivo).\n",
    "# O valor inicial será 0 e o incremento será 1.\n",
    "\n",
    "for numero in range(10):\n",
    "    print(numero)\n",
    "    # este exemplo imprime os números de 0 a 9, de um em um\n",
    "\n",
    "# Com 2 parâmetros, o primeiro será o valor inicial (inclusivo) e o\n",
    "# segundo será o final (exclusivo).\n",
    "# O incremento continuará sendo 1.\n",
    "\n",
    "for numero in range(1,11):\n",
    "    print(numero)\n",
    "    # este exemplo imprime os números de 1 a 10, de um em um\n",
    "\n",
    "# Com 3 parâmetros, o terceiro será interpretado como incremento.\n",
    "for numero in range(1,20,2):\n",
    "    print(numero)\n",
    "    # este exemplo imprime os ímpares positivos menores do que 20\n",
    "    # ele começa valendo 1 e salta de 2 em 2 até atingir ou passar 20\n",
    "\n",
    "# O incremento pode ser também um decremento (incremento negativo).\n",
    "for numero in range (10,0,-1):\n",
    "    print(numero)\n",
    "    #Imprimindo os números de 1 a 10 em ordem decrescente"
   ]
  },
  {
   "cell_type": "code",
   "execution_count": null,
   "id": "966d42b4",
   "metadata": {},
   "outputs": [],
   "source": []
  }
 ],
 "metadata": {
  "kernelspec": {
   "display_name": "Python 3 (ipykernel)",
   "language": "python",
   "name": "python3"
  },
  "language_info": {
   "codemirror_mode": {
    "name": "ipython",
    "version": 3
   },
   "file_extension": ".py",
   "mimetype": "text/x-python",
   "name": "python",
   "nbconvert_exporter": "python",
   "pygments_lexer": "ipython3",
   "version": "3.9.12"
  }
 },
 "nbformat": 4,
 "nbformat_minor": 5
}
