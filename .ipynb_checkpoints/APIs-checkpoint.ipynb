{
 "cells": [
  {
   "cell_type": "code",
   "execution_count": 1,
   "id": "1c777220",
   "metadata": {},
   "outputs": [],
   "source": [
    "# APIs\n",
    "# Application Programming Interface\n",
    "# Hoje em dia é muito comum que diferentes aplicações consumam dados pela internet, muitas vezes dados providenciados por \n",
    "#terceiros. Por exemplo, um aplicativo de entrega de alimentos pode usar dados de geolocalização do Google para localizar \n",
    "# restaurantes próximos ao usuário e exibir a rota percorrida pelo entregador.\n",
    "\n",
    "# Como as aplicações podem rodar em diferentes plataformas (Windows, Android, MacOS, iOS, um navegador de internet...), \n",
    "# é importante estabelecer uma linguagem comum para que todos consigam consumir esses dados.\n",
    "\n",
    "# Essa \"linguagem comum\" é o que chamamos de API: Application Programming Interface. A organização que disponibiliza os dados \n",
    "# estabelece algumas \"regrinhas\" para fazermos requisições, e em contrapartida ela garante que os recursos fornecidos também \n",
    "# seguirão certos padrões, facilitando a vida dos programadores.\n",
    "\n",
    "# Portanto, quando decidimos utilizar uma API, a primeira coisa que precisamos fazer é estudar sua documentação. \n",
    "# Vejamos alguns dos pontos mais relevantes para procurar.\n",
    "\n",
    "# Todos os exemplos de requisição que mostraremos aqui podem ser colados em seu navegador ou estudados usando um requests.get \n",
    "# no Python e imprimindo seu campo text."
   ]
  },
  {
   "cell_type": "code",
   "execution_count": 2,
   "id": "0ad9c19e",
   "metadata": {},
   "outputs": [],
   "source": [
    "# URI Base\n",
    "\n",
    "# Várias APIs fornecem um \"endereço base\". Todas as suas requisições incluirão esse endereço, e ao final dele nós colocamos \n",
    "# detalhes específicos para cada um dos recursos disponíveis.\n",
    "\n",
    "# Por exemplo, na AlphaVantage (https://www.alphavantage.co/), uma API de dados de bolsas de valores e3 criptomoedas, a URI \n",
    "# base é: https://www.alphavantage.co/query?\n",
    "\n",
    "# Após a interrogação nós colocaremos os campos para nossa consulta. Por exemplo, para fazer uma consulta sem autenticação \n",
    "# para valores da IBM, de 5 em 5 minutos, o endereço completo fica:\n",
    "\n",
    "# https://www.alphavantage.co/query?function=TIME_SERIES_INTRADAY&symbol=IBM&interval=5min&apikey=demo\n",
    "\n",
    "# Note o formato com &NomeDoCampo=ValorDoCampo. Ele é bastante comum. Outro formato bastante comum é o de \"subdiretórios\".\n",
    "\n",
    "# Um exemplo é a PokéAPI. A URI base é:\n",
    "\n",
    "# https://pokeapi.co/api/v2/\n",
    "\n",
    "# Para procurar por pokémons, adicionamos pokemon/. Em seguida, podemos colocar números (índices) ou nomes de Pokémon, como:\n",
    "\n",
    "# https://pokeapi.co/api/v2/pokemon/ditto/\n",
    "\n",
    "# https://pokeapi.co/api/v2/pokemon/25\n",
    "\n",
    "# Se ao invés de pokémons estivéssemos interessados em tipos de pokémon, usaríamos types/ e o nome ou índice do tipo desejado:\n",
    "\n",
    "# https://pokeapi.co/api/v2/type/ghost"
   ]
  },
  {
   "cell_type": "code",
   "execution_count": 3,
   "id": "9eb70d25",
   "metadata": {},
   "outputs": [],
   "source": [
    "# Formato\n",
    "# Tipo de dado\n",
    "# Algumas APIs possuem formatos fixos de dados. Outros permitem que você escolha. É comum, por exemplo, que uma API permita \n",
    "# que você escolha entre JSON, XML, CSV e/ou outros formatos.\n",
    "\n",
    "# Caso você tenha entrado no AlphaVantage e se registrado para obter uma chave (falaremos mais adiante), você pode especificar, \n",
    "# por exemplo, que gostaria de resultados no formato CSV:\n",
    "\n",
    "# https://www.alphavantage.co/query?function=TIME_SERIES_INTRADAY&symbol=IBM&interval=5min&dataformat=csv&apikey=demo\n",
    "\n",
    "# Substitua \"demo\" por sua chave no exemplo acima e ele funcionará."
   ]
  },
  {
   "cell_type": "code",
   "execution_count": 4,
   "id": "00f92fd3",
   "metadata": {},
   "outputs": [
    {
     "ename": "NameError",
     "evalue": "name 'string' is not defined",
     "output_type": "error",
     "traceback": [
      "\u001b[1;31m---------------------------------------------------------------------------\u001b[0m",
      "\u001b[1;31mNameError\u001b[0m                                 Traceback (most recent call last)",
      "Input \u001b[1;32mIn [4]\u001b[0m, in \u001b[0;36m<cell line: 6>\u001b[1;34m()\u001b[0m\n\u001b[0;32m      1\u001b[0m \u001b[38;5;66;03m# Schema\u001b[39;00m\n\u001b[0;32m      2\u001b[0m \u001b[38;5;66;03m# É bastante comum que as APIs disponibilizem um \"modelo\" genérico de como será formatado o seu JSON, XML etc para que os \u001b[39;00m\n\u001b[0;32m      3\u001b[0m \u001b[38;5;66;03m# desenvolvedores saibam quais campos esperar e quais tipos de dados serão possíveis para cada campo. Por exemplo:\u001b[39;00m\n\u001b[0;32m      5\u001b[0m {\n\u001b[1;32m----> 6\u001b[0m     \u001b[38;5;124m'\u001b[39m\u001b[38;5;124mnome\u001b[39m\u001b[38;5;124m'\u001b[39m:\u001b[43mstring\u001b[49m,\n\u001b[0;32m      7\u001b[0m     \u001b[38;5;124m'\u001b[39m\u001b[38;5;124mpontuacao\u001b[39m\u001b[38;5;124m'\u001b[39m:integer\n\u001b[0;32m      8\u001b[0m }\n",
      "\u001b[1;31mNameError\u001b[0m: name 'string' is not defined"
     ]
    }
   ],
   "source": [
    "# Schema\n",
    "# É bastante comum que as APIs disponibilizem um \"modelo\" genérico de como será formatado o seu JSON, XML etc para que os \n",
    "# desenvolvedores saibam quais campos esperar e quais tipos de dados serão possíveis para cada campo. Por exemplo:\n",
    "\n",
    "{\n",
    "    'nome':string,\n",
    "    'pontuacao':integer\n",
    "}"
   ]
  },
  {
   "cell_type": "code",
   "execution_count": 5,
   "id": "da855f24",
   "metadata": {},
   "outputs": [],
   "source": [
    "# Autenticação\n",
    "# Outro aspecto importante é a autenticação. Enquanto algumas APIs são grátis, outras são pagas. Ainda temos algumas híbridas: \n",
    "# você pode gratuitamente acessar certos recursos, ou consumir um certo volume de dados, e acima disso você deverá pagar. \n",
    "# Os dois modelos mais comuns de autenticação:\n",
    "\n",
    "# Chave: ao fazer seu registro, você recebe uma chave que será inclusa na requisição, como é o caso do AlphaVantage.\n",
    "# OAuth: um esquema um pouco mais complexo onde são combinados códigos de autorização, identificação do cliente e segredo do \n",
    "# cliente em um POST, e o servidor cria uma sessão por um tempo limitado e fornece o ID da mesma. APIs de gigantes da internet \n",
    "# (como Google e Facebook) costumam usar esse modelo."
   ]
  },
  {
   "cell_type": "code",
   "execution_count": 6,
   "id": "7f2faeac",
   "metadata": {},
   "outputs": [],
   "source": [
    "# Rate limiting\n",
    "# Um dado parcialmente relacionado ao item anterior. As APIs costumam limitar o número de requisições que você pode fazer em um \n",
    "# instante de tempo (3 requisições por minuto, 10000 requisições por dia etc). Temos dois motivos:\n",
    "\n",
    "# Segurança: evitar uma sobrecarga no servidor deles que possa indisponibilizar a API para todos os usuários.\n",
    "# Venda de planos: várias APIs pagas possuem diferentes planos de pagamento. Os planos mais caros costumam permitir mais \n",
    "# requisições do que os mais baratos ou gratuitos."
   ]
  },
  {
   "cell_type": "code",
   "execution_count": 7,
   "id": "c25fb3b8",
   "metadata": {},
   "outputs": [],
   "source": [
    "# Wrappers\n",
    "# Algumas APIs possuem tantas buscas diferentes e os resultados podem ser tão complexos que mesmo vindo em formatos simples \n",
    "# como JSON pode ser um pouco trabalhoso montar as requisições e isolar os dados que queremos. Por conta disso, frequentemente \n",
    "# são fornecidas wrapper libraries: bibliotecas escritas em linguagens de programação específicas que já trazem classes e \n",
    "# funções prontas para fazer requisições automaticamente e já quebrar o resultado em objetos fáceis de serem utilizados. \n",
    "# Elas também costumam oferecer alguns benefícios adicionais, como caching: de tempos em tempos a base de dados é totalmente ou \n",
    "# parcialmente baixada por completo e salva localmente, o que ajuda a economizar requisições e, consequentemente, uso de dados \n",
    "# (bastante útil considerando em usuários de dispositivos móveis, por exemplo)."
   ]
  },
  {
   "cell_type": "code",
   "execution_count": 8,
   "id": "02b92979",
   "metadata": {},
   "outputs": [],
   "source": [
    "# Sandbox\n",
    "# Várias APIs possuem no mesmo site de sua documentação uma área conhecida como sandbox, onde você pode simular requisições no \n",
    "# próprio navegador e ver não só a resposta formatada, como informações sobre como montar aquela requisição em software.\n",
    "\n",
    "# Aqui podemos observar a área de sandbox para fazer consultas de gastos por meio de cartão de pagamento do Portal da \n",
    "# Transparência do governo federal. Note que ele mostra o schema e apresenta campos para preenchermos as buscas."
   ]
  },
  {
   "cell_type": "code",
   "execution_count": null,
   "id": "3e295ff3",
   "metadata": {},
   "outputs": [],
   "source": [
    "# Consumindo APIs em Python\n",
    "# As APIs são meios de nos conectarmos a recursos na internet. Portanto, já possuímos as ferramentas na mão desde os capítulos \n",
    "# anteriores. Você irá construir a lógica para decidir o que você irá buscar/consultar, montará uma string seguindo o formato \n",
    "# indicado pela documentação da API (como todos os exemplos deste capítulo). Em seguida você tratará a resposta de acordo:\n",
    "\n",
    "# Se for JSON, utilize o método json da própria requests.\n",
    "# Se for CSV, utilize o módulo CSV estudado anteriormente.\n",
    "# Se for XML, podemos utilizar o módulo BeautifulSoup, que não será estudado aqui.\n",
    "# Para outros formatos, provavelmente a solução mais fácil será baixar um módulo preparado para lidar com eles.\n",
    "# Descobrindo APIs: tem boas ideias e gostaria de saber se existe uma boa API para ajudar? Confira alguns bons repositórios de \n",
    "# API organizados por categoria:\n",
    "\n",
    "# https://github.com/n0shake/public-apis\n",
    "\n",
    "# https://github.com/public-apis/public-apis\n",
    "\n",
    "# https://any-api.com/\n",
    "\n",
    "# Sites de governos costumam ter uma grande riqueza de dados também. Segue abaixo algumas sugestões (oficiais ou mantidas por \n",
    "# voluntários) com dados do Brasil como um todo. Experimente buscar por bases de dados de sua cidade ou estado!\n",
    "\n",
    "# http://www.transparencia.gov.br/swagger-ui.html\n",
    "\n",
    "# http://www.dados.gov.br/\n",
    "\n",
    "# https://brasil.io/home/"
   ]
  }
 ],
 "metadata": {
  "kernelspec": {
   "display_name": "Python 3 (ipykernel)",
   "language": "python",
   "name": "python3"
  },
  "language_info": {
   "codemirror_mode": {
    "name": "ipython",
    "version": 3
   },
   "file_extension": ".py",
   "mimetype": "text/x-python",
   "name": "python",
   "nbconvert_exporter": "python",
   "pygments_lexer": "ipython3",
   "version": "3.9.12"
  }
 },
 "nbformat": 4,
 "nbformat_minor": 5
}
