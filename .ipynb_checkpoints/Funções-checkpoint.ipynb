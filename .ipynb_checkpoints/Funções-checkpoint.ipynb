{
 "cells": [
  {
   "cell_type": "code",
   "execution_count": 1,
   "id": "7f963815",
   "metadata": {},
   "outputs": [],
   "source": [
    "# Funções são uma espécie de \"subprograma\". Elas são como pequenos pedacinhos de programa que podem ser chamadas pelo nome. \n",
    "# Para criar uma função usamos o comando \"def\" e o nome da função. Elas são um bloco de comando assim como if/elif/else, while \n",
    "# e for.\n",
    "\n",
    "def hello():\n",
    "    print(\"Olá, mundo!\")"
   ]
  },
  {
   "cell_type": "code",
   "execution_count": 2,
   "id": "de5e8b76",
   "metadata": {},
   "outputs": [
    {
     "name": "stdout",
     "output_type": "stream",
     "text": [
      "Olá, mundo!\n"
     ]
    }
   ],
   "source": [
    "# Quando uma função é chamada pelo nome, o fluxo do programa é interrompido. Em seguida, a função inteira é executada, e ao \n",
    "# final dela, o programa volta a ser executado do mesmo ponto que parou.\n",
    "hello()\n",
    "\n",
    "# Saída: Olá, mundo!"
   ]
  },
  {
   "cell_type": "code",
   "execution_count": 4,
   "id": "c1d33d0c",
   "metadata": {},
   "outputs": [
    {
     "name": "stdout",
     "output_type": "stream",
     "text": [
      "Olá Maria\n",
      "Olá João\n"
     ]
    }
   ],
   "source": [
    "# É possível passarmos informações para uma função. Chamamos essas informações de \"parâmetros\" ou \"argumentos. \n",
    "# Na definição da função, daremos nome a esses parâmetros. Dentro da função, eles serão tratados como se fossem variáveis.\n",
    "\n",
    "def ola(nome):\n",
    "    print(\"Olá\", nome)\n",
    "    \n",
    "# Ao chamarmos a nossa funcao, passamos os parâmetros entre parênteses. O nome ou valor passado não precisam ser iguais aos \n",
    "# declarados na função! O nome do parâmetro interno da função é um \"apelido\" que a função dará para o valor ou variável que \n",
    "# passamos.\n",
    "\n",
    "ola(\"Maria\")\n",
    "# Saída: Olá, Maria\n",
    "\n",
    "aluno = \"João\"\n",
    "ola(aluno)\n",
    "# Saída: Olá, João"
   ]
  },
  {
   "cell_type": "code",
   "execution_count": 5,
   "id": "8ae354d8",
   "metadata": {},
   "outputs": [
    {
     "name": "stdout",
     "output_type": "stream",
     "text": [
      "Seu nome é José, você tem 30 anos e mora em Maceió.\n"
     ]
    }
   ],
   "source": [
    "# A função pode receber vários parâmetros separados por vírgula.\n",
    "\n",
    "def dadosPessoais(nome, idade, cidade):\n",
    "    print(\"Seu nome é {}, você tem {} anos e mora em {}.\".format(nome, idade, cidade))\n",
    "\n",
    "dadosPessoais(\"José\", 30, \"Maceió\")\n",
    "# Saída: Seu nome é José, você tem 30 anos e mora em Maceió."
   ]
  },
  {
   "cell_type": "code",
   "execution_count": 6,
   "id": "512dfea0",
   "metadata": {},
   "outputs": [
    {
     "name": "stdout",
     "output_type": "stream",
     "text": [
      "Seu nome é Ana, você tem 56 anos e mora em Florianópolis.\n"
     ]
    }
   ],
   "source": [
    "# Os parâmetros podem ser passados fora de ordem. Porém, para isso precisamos explicitar qual parâmetro estamos passando, \n",
    "# para evitar ambiguidade ou erros de interpretação do Python.\n",
    "\n",
    "dadosPessoais(idade=56, cidade=\"Florianópolis\", nome=\"Ana\")\n",
    "# Saída: Seu nome é Ana, você tem 56 anos e mora em Florianópolis."
   ]
  },
  {
   "cell_type": "code",
   "execution_count": 7,
   "id": "3705be4c",
   "metadata": {},
   "outputs": [
    {
     "name": "stdout",
     "output_type": "stream",
     "text": [
      "A soma dos elementos da lista vale:  15\n",
      "Que soma pequena!\n"
     ]
    },
    {
     "data": {
      "text/plain": [
       "'\\nSaída:\\nA soma dos elementos da lista vale:  15\\nQue soma pequena!\\n'"
      ]
     },
     "execution_count": 7,
     "metadata": {},
     "output_type": "execute_result"
    }
   ],
   "source": [
    "# Funções com resposta\n",
    "\n",
    "# Uma função pode ter uma \"resposta\". Por exemplo, nossa função pode ser uma conta, e o resultado da conta pode ser útil em \n",
    "# nosso programa. Dizemos que essas funções \"retornam\" um valor. Utilizamos a palavra \"return\" para fazer uma função retornar \n",
    "# sua resposta. Quando uma função retorna um valor, ela pode ser usada em expressões matemáticas ou lógicas, ter seu valor \n",
    "# atribuído a uma variável, etc.\n",
    "\n",
    "def somatorio(lista):\n",
    "    soma = 0\n",
    "    for item in lista:\n",
    "        soma = soma + item\n",
    "    return soma\n",
    "\n",
    "numeros = [1, 2, 3, 4, 5]\n",
    "soma_dos_numeros = somatorio(numeros)\n",
    "print(\"A soma dos elementos da lista vale: \", soma_dos_numeros)\n",
    "\n",
    "if somatorio(numeros) > 50:\n",
    "    print(\"Que soma grande!\")\n",
    "else:\n",
    "    print(\"Que soma pequena!\")\n",
    "    \n",
    "'''\n",
    "Saída:\n",
    "A soma dos elementos da lista vale:  15\n",
    "Que soma pequena!\n",
    "'''"
   ]
  },
  {
   "cell_type": "code",
   "execution_count": null,
   "id": "9e5c5079",
   "metadata": {},
   "outputs": [],
   "source": []
  }
 ],
 "metadata": {
  "kernelspec": {
   "display_name": "Python 3 (ipykernel)",
   "language": "python",
   "name": "python3"
  },
  "language_info": {
   "codemirror_mode": {
    "name": "ipython",
    "version": 3
   },
   "file_extension": ".py",
   "mimetype": "text/x-python",
   "name": "python",
   "nbconvert_exporter": "python",
   "pygments_lexer": "ipython3",
   "version": "3.9.12"
  }
 },
 "nbformat": 4,
 "nbformat_minor": 5
}
