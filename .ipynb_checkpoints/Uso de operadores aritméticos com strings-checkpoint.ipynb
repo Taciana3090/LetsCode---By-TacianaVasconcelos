{
 "cells": [
  {
   "cell_type": "code",
   "execution_count": 1,
   "id": "ac78df27",
   "metadata": {},
   "outputs": [
    {
     "name": "stdout",
     "output_type": "stream",
     "text": [
      "Let'sCode\n",
      "umaumauma\n"
     ]
    }
   ],
   "source": [
    "# Dois operadores aritméticos possuem um comportamento especial em strings:\n",
    "# Operador de soma (+): concatena (une) 2 strings.\n",
    "palavra1 = \"Let's\"\n",
    "palavra2 = \"Code\"\n",
    "palavra3 = palavra1 + palavra2\n",
    "print(palavra3)\n",
    "\n",
    "# Operador de multiplicação (*): copia uma string 'n' vezes:\n",
    "palavra = 'uma'\n",
    "trespalavras = 3*palavra\n",
    "print(trespalavras)"
   ]
  },
  {
   "cell_type": "code",
   "execution_count": 2,
   "id": "3b6edfb4",
   "metadata": {},
   "outputs": [
    {
     "name": "stdout",
     "output_type": "stream",
     "text": [
      "O produto chocolate custa 3.14.\n",
      "O litro da gasolina custa 3.14\n",
      "c, b and a\n",
      "abracadabra\n",
      "1/8/2019\n",
      " 1/ 8/2019\n",
      "01/08/2019\n",
      "Pietro é professor da Let's Code.\n"
     ]
    }
   ],
   "source": [
    "# Formatação de strings\n",
    "# Uma última função interessante de strings é o .format() Para entender como ela funciona, podemos pensar em um contrato. \n",
    "# É normal que ele venha com campos em branco para serem preenchidos posteriormente. Ex:\n",
    "\n",
    "# Eu, ______________, portador do RG ________________ e nascido ao dia //, autorizo o uso de minha imagem.\n",
    "\n",
    "# Ao inserirmos no contrato nossas informações pessoais, ele se torna completo.\n",
    "\n",
    "# O .format() serve para \"preencher\" os \"campos em branco\" de uma string.\n",
    "\n",
    "# Os campos em branco serão representados por pares de chave: {}\n",
    "\n",
    "prod = 'chocolate'\n",
    "preco = 3.14\n",
    "print('O produto {} custa {}.'.format(prod, preco))\n",
    "\n",
    "# Na linha acima, prod substituirá o primeiro {}, e preco o segundo {}.\n",
    "# Saída: O produto chocolate custa 3.14.\n",
    "\n",
    "# É possível colocar algumas opções especiais de formatação. Por exemplo:\n",
    "\n",
    "stringoriginal = 'O litro da gasolina custa {:.2f}'\n",
    "'''\n",
    ": indica que passaremos opções\n",
    ".2 indica apenas 2 casas após o ponto decimal\n",
    "f indica que é um float\n",
    "'''\n",
    "preco = 3.14159265\n",
    "stringcompleta = stringoriginal.format(preco)\n",
    "print(stringcompleta)\n",
    "# Saída: O litro da gasolina custa 3.14\n",
    "# O preço sai com apenas 2 casas após a vírgula!\n",
    "\n",
    "# Pode-se chamar as variávies em diferentes ordens:\n",
    "\n",
    "print('{2}, {1} and {0}'.format('a', 'b', 'c'))\n",
    "# Saída: c, b and a\n",
    "\n",
    "print('{0}{1}{0}'.format('abra', 'cad'))\n",
    "# Saída: abracadabra\n",
    "\n",
    "\n",
    "# Podemos especificar um número de dígitos obrigatório por campo.\n",
    "# Vejamos o exemplo:\n",
    "\n",
    "dia = 1\n",
    "mes = 8\n",
    "ano = 2019\n",
    "data1 = '{}/{}/{}'.format(dia, mes, ano)\n",
    "print(data1)\n",
    "# Saída: 1/8/2019\n",
    "# O dia e o mês ocupam apenas 1 espaço\n",
    "\n",
    "\n",
    "data2 = '{:2d}/{:2d}/{:4d}'.format(dia, mes, ano)\n",
    "# A opção 'd' significa que o parâmetro é um número inteiro.\n",
    "print(data2)\n",
    "# Saída:  1/ 8/2019\n",
    "# Agora, dia e mês ocupam obrigatoriamente 2 espaços:  1/ 8/2019\n",
    "\n",
    "# Podemos forçar que os espaços em branco sejam preenchidos com o número 0:\n",
    "data3 = '{:02d}/{:02d}/{:04d}'.format(dia, mes, ano)\n",
    "print(data3)\n",
    "# Saída: 01/08/2019\n",
    "# Agora sim a data está no formato usual, dd/mm/aaaa: 01/08/2019\n",
    "\n",
    "# Um modo mais simples de utilizar o format\n",
    "nome = \"Pietro\"\n",
    "profissao = \"professor\"\n",
    "escola = \"Let's Code\"\n",
    "\n",
    "print(f\"{nome} é {profissao} da {escola}.\")\n",
    "# Saída: Pietro é professor da Let's Code."
   ]
  },
  {
   "cell_type": "code",
   "execution_count": null,
   "id": "3fdb2fcb",
   "metadata": {},
   "outputs": [],
   "source": []
  }
 ],
 "metadata": {
  "kernelspec": {
   "display_name": "Python 3 (ipykernel)",
   "language": "python",
   "name": "python3"
  },
  "language_info": {
   "codemirror_mode": {
    "name": "ipython",
    "version": 3
   },
   "file_extension": ".py",
   "mimetype": "text/x-python",
   "name": "python",
   "nbconvert_exporter": "python",
   "pygments_lexer": "ipython3",
   "version": "3.9.12"
  }
 },
 "nbformat": 4,
 "nbformat_minor": 5
}
