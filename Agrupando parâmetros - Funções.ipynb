{
 "cells": [
  {
   "cell_type": "code",
   "execution_count": 1,
   "id": "2ee43027",
   "metadata": {},
   "outputs": [
    {
     "name": "stdout",
     "output_type": "stream",
     "text": [
      "O volume é:  100\n"
     ]
    }
   ],
   "source": [
    "# Podemos utilizar o operador * - que, neste caso, não será uma multiplicação. Ao colocarmos o * ao lado do nome de um parâmetro\n",
    "# na definição da função, estamos dizendo que aquele argumento será uma coleção. Mais especificamente, uma tupla. \n",
    "# Porém, o usuário não irá passar uma tupla. Ele irá passar quantos argumentos ele quiser, e o Python automaticamente criará \n",
    "# uma tupla com eles:\n",
    "\n",
    "def piscina(*infos):\n",
    "    vol = infos[0]*infos[1]*infos[2]\n",
    "    return vol\n",
    "\n",
    "volume = piscina(5, 4, 5)\n",
    "\n",
    "print('O volume é: ', volume)"
   ]
  },
  {
   "cell_type": "code",
   "execution_count": 2,
   "id": "68f242fe",
   "metadata": {},
   "outputs": [
    {
     "name": "stdout",
     "output_type": "stream",
     "text": [
      "O volume é:  100\n"
     ]
    }
   ],
   "source": [
    "# Podemos utilizar o operador * na chamada da função também. Na definição, o operador * indica que devemos agrupar itens \n",
    "# avulsos em uma coleção. Na chamada, ele indica que uma coleção deve ser expandida em itens avulsos:\n",
    "def piscina(prof, largura, comprimento):\n",
    "    vol = prof*largura*comprimento\n",
    "    return vol\n",
    "\n",
    "lista = [5, 4, 5]\n",
    "\n",
    "volume = piscina(*lista)\n",
    "\n",
    "print('O volume é: ', volume)"
   ]
  },
  {
   "cell_type": "code",
   "execution_count": 3,
   "id": "c1ef4377",
   "metadata": {},
   "outputs": [
    {
     "name": "stdout",
     "output_type": "stream",
     "text": [
      "O volume é:  100\n"
     ]
    }
   ],
   "source": [
    "# Parâmetros opcionais\n",
    "\n",
    "# Outra possibilidade são funções com parâmetros opcionais. Note que isso é diferente de termos quantidade variável de \n",
    "# parâmetros. No caso da quantidade variável, normalmente são diversos parâmetros com a mesma utilidade \n",
    "# (números a serem somados, valores a serem exibidos etc), enquanto os parâmetros opcionais são informações distintas que \n",
    "# podem ou não ser passadas para a função.\n",
    "\n",
    "# Para criar parâmetros opcionais, usaremos **, e os parâmetros passados serão agrupados em um dicionário: o nome do \n",
    "# parâmetro será uma chave, e o valor será... O valor.\n",
    "\n",
    "def piscina(prof, **infos):\n",
    "    vol = prof*infos['largura']*infos['comprimento']\n",
    "    return vol\n",
    "\n",
    "volume = piscina(5, largura=4, comprimento=5)\n",
    "\n",
    "print('O volume é: ', volume)"
   ]
  },
  {
   "cell_type": "code",
   "execution_count": 4,
   "id": "65f9b19d",
   "metadata": {},
   "outputs": [
    {
     "name": "stdout",
     "output_type": "stream",
     "text": [
      "O volume é:  1000\n"
     ]
    }
   ],
   "source": [
    "# Analogamente ao caso dos parâmetros múltiplos, é possível que o usuário da função já tenha os dados organizados em um \n",
    "# dicionário. Neste caso, basta usar ** na chamada da função para expandir o dicionário em vários parâmetros opcionais:\n",
    "\n",
    "def piscina(prof, largura=4, comprimento=5):\n",
    "    vol = prof*largura*comprimento\n",
    "    return vol\n",
    "\n",
    "infos = {'largura': 10, 'comprimento': 20}\n",
    "\n",
    "volume = piscina(5, **infos)\n",
    "\n",
    "print('O volume é: ', volume)"
   ]
  },
  {
   "cell_type": "code",
   "execution_count": null,
   "id": "e6eff216",
   "metadata": {},
   "outputs": [],
   "source": []
  }
 ],
 "metadata": {
  "kernelspec": {
   "display_name": "base",
   "language": "python",
   "name": "python3"
  },
  "language_info": {
   "codemirror_mode": {
    "name": "ipython",
    "version": 3
   },
   "file_extension": ".py",
   "mimetype": "text/x-python",
   "name": "python",
   "nbconvert_exporter": "python",
   "pygments_lexer": "ipython3",
   "version": "3.8.5"
  },
  "vscode": {
   "interpreter": {
    "hash": "089cf8d0828e48b90dc1cd702efc27d17fe0ab33234633c50831dca662b0fadf"
   }
  }
 },
 "nbformat": 4,
 "nbformat_minor": 5
}
